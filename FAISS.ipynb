{
 "cells": [
  {
   "cell_type": "markdown",
   "id": "071cf906-974b-4142-90a7-45c66a09f912",
   "metadata": {},
   "source": [
    "# Understanding Faiss"
   ]
  },
  {
   "cell_type": "code",
   "execution_count": 2,
   "id": "84398816-b345-4c89-8f2e-e6d0bc282fae",
   "metadata": {},
   "outputs": [
    {
     "name": "stdout",
     "output_type": "stream",
     "text": [
      "Requirement already satisfied: faiss-cpu in /Library/Frameworks/Python.framework/Versions/3.11/lib/python3.11/site-packages (1.9.0.post1)\n",
      "Requirement already satisfied: numpy<3.0,>=1.25.0 in /Library/Frameworks/Python.framework/Versions/3.11/lib/python3.11/site-packages (from faiss-cpu) (1.25.1)\n",
      "Requirement already satisfied: packaging in /Library/Frameworks/Python.framework/Versions/3.11/lib/python3.11/site-packages (from faiss-cpu) (24.2)\n",
      "Requirement already satisfied: sentence-transformers in /Library/Frameworks/Python.framework/Versions/3.11/lib/python3.11/site-packages (3.4.0)\n",
      "Requirement already satisfied: transformers<5.0.0,>=4.41.0 in /Library/Frameworks/Python.framework/Versions/3.11/lib/python3.11/site-packages (from sentence-transformers) (4.47.1)\n",
      "Requirement already satisfied: tqdm in /Library/Frameworks/Python.framework/Versions/3.11/lib/python3.11/site-packages (from sentence-transformers) (4.67.1)\n",
      "Requirement already satisfied: torch>=1.11.0 in /Library/Frameworks/Python.framework/Versions/3.11/lib/python3.11/site-packages (from sentence-transformers) (2.5.1)\n",
      "Requirement already satisfied: scikit-learn in /Library/Frameworks/Python.framework/Versions/3.11/lib/python3.11/site-packages (from sentence-transformers) (1.6.1)\n",
      "Requirement already satisfied: scipy in /Library/Frameworks/Python.framework/Versions/3.11/lib/python3.11/site-packages (from sentence-transformers) (1.15.1)\n",
      "Requirement already satisfied: huggingface-hub>=0.20.0 in /Library/Frameworks/Python.framework/Versions/3.11/lib/python3.11/site-packages (from sentence-transformers) (0.27.1)\n",
      "Requirement already satisfied: Pillow in /Library/Frameworks/Python.framework/Versions/3.11/lib/python3.11/site-packages (from sentence-transformers) (11.1.0)\n",
      "Requirement already satisfied: filelock in /Library/Frameworks/Python.framework/Versions/3.11/lib/python3.11/site-packages (from huggingface-hub>=0.20.0->sentence-transformers) (3.16.1)\n",
      "Requirement already satisfied: fsspec>=2023.5.0 in /Library/Frameworks/Python.framework/Versions/3.11/lib/python3.11/site-packages (from huggingface-hub>=0.20.0->sentence-transformers) (2024.12.0)\n",
      "Requirement already satisfied: packaging>=20.9 in /Library/Frameworks/Python.framework/Versions/3.11/lib/python3.11/site-packages (from huggingface-hub>=0.20.0->sentence-transformers) (24.2)\n",
      "Requirement already satisfied: pyyaml>=5.1 in /Library/Frameworks/Python.framework/Versions/3.11/lib/python3.11/site-packages (from huggingface-hub>=0.20.0->sentence-transformers) (6.0.2)\n",
      "Requirement already satisfied: requests in /Library/Frameworks/Python.framework/Versions/3.11/lib/python3.11/site-packages (from huggingface-hub>=0.20.0->sentence-transformers) (2.32.3)\n",
      "Requirement already satisfied: typing-extensions>=3.7.4.3 in /Library/Frameworks/Python.framework/Versions/3.11/lib/python3.11/site-packages (from huggingface-hub>=0.20.0->sentence-transformers) (4.12.2)\n",
      "Requirement already satisfied: networkx in /Library/Frameworks/Python.framework/Versions/3.11/lib/python3.11/site-packages (from torch>=1.11.0->sentence-transformers) (3.4.2)\n",
      "Requirement already satisfied: jinja2 in /Library/Frameworks/Python.framework/Versions/3.11/lib/python3.11/site-packages (from torch>=1.11.0->sentence-transformers) (3.1.5)\n",
      "Requirement already satisfied: sympy==1.13.1 in /Library/Frameworks/Python.framework/Versions/3.11/lib/python3.11/site-packages (from torch>=1.11.0->sentence-transformers) (1.13.1)\n",
      "Requirement already satisfied: mpmath<1.4,>=1.1.0 in /Library/Frameworks/Python.framework/Versions/3.11/lib/python3.11/site-packages (from sympy==1.13.1->torch>=1.11.0->sentence-transformers) (1.3.0)\n",
      "Requirement already satisfied: numpy>=1.17 in /Library/Frameworks/Python.framework/Versions/3.11/lib/python3.11/site-packages (from transformers<5.0.0,>=4.41.0->sentence-transformers) (1.25.1)\n",
      "Requirement already satisfied: regex!=2019.12.17 in /Library/Frameworks/Python.framework/Versions/3.11/lib/python3.11/site-packages (from transformers<5.0.0,>=4.41.0->sentence-transformers) (2024.11.6)\n",
      "Requirement already satisfied: tokenizers<0.22,>=0.21 in /Library/Frameworks/Python.framework/Versions/3.11/lib/python3.11/site-packages (from transformers<5.0.0,>=4.41.0->sentence-transformers) (0.21.0)\n",
      "Requirement already satisfied: safetensors>=0.4.1 in /Library/Frameworks/Python.framework/Versions/3.11/lib/python3.11/site-packages (from transformers<5.0.0,>=4.41.0->sentence-transformers) (0.5.1)\n",
      "Requirement already satisfied: joblib>=1.2.0 in /Library/Frameworks/Python.framework/Versions/3.11/lib/python3.11/site-packages (from scikit-learn->sentence-transformers) (1.4.2)\n",
      "Requirement already satisfied: threadpoolctl>=3.1.0 in /Library/Frameworks/Python.framework/Versions/3.11/lib/python3.11/site-packages (from scikit-learn->sentence-transformers) (3.5.0)\n",
      "Requirement already satisfied: MarkupSafe>=2.0 in /Library/Frameworks/Python.framework/Versions/3.11/lib/python3.11/site-packages (from jinja2->torch>=1.11.0->sentence-transformers) (3.0.2)\n",
      "Requirement already satisfied: charset-normalizer<4,>=2 in /Library/Frameworks/Python.framework/Versions/3.11/lib/python3.11/site-packages (from requests->huggingface-hub>=0.20.0->sentence-transformers) (3.4.1)\n",
      "Requirement already satisfied: idna<4,>=2.5 in /Library/Frameworks/Python.framework/Versions/3.11/lib/python3.11/site-packages (from requests->huggingface-hub>=0.20.0->sentence-transformers) (3.10)\n",
      "Requirement already satisfied: urllib3<3,>=1.21.1 in /Library/Frameworks/Python.framework/Versions/3.11/lib/python3.11/site-packages (from requests->huggingface-hub>=0.20.0->sentence-transformers) (2.3.0)\n",
      "Requirement already satisfied: certifi>=2017.4.17 in /Library/Frameworks/Python.framework/Versions/3.11/lib/python3.11/site-packages (from requests->huggingface-hub>=0.20.0->sentence-transformers) (2022.12.7)\n"
     ]
    }
   ],
   "source": [
    "#Install Packages\n",
    "!pip install faiss-cpu\n",
    "!pip install sentence-transformers"
   ]
  },
  {
   "cell_type": "code",
   "execution_count": 3,
   "id": "9cc80c63-524f-4c27-b611-c73d3bc82c5a",
   "metadata": {},
   "outputs": [
    {
     "name": "stdout",
     "output_type": "stream",
     "text": [
      "Requirement already satisfied: pandas in /Library/Frameworks/Python.framework/Versions/3.11/lib/python3.11/site-packages (2.2.3)\n",
      "Requirement already satisfied: numpy>=1.23.2 in /Library/Frameworks/Python.framework/Versions/3.11/lib/python3.11/site-packages (from pandas) (1.25.1)\n",
      "Requirement already satisfied: python-dateutil>=2.8.2 in /Library/Frameworks/Python.framework/Versions/3.11/lib/python3.11/site-packages (from pandas) (2.9.0.post0)\n",
      "Requirement already satisfied: pytz>=2020.1 in /Library/Frameworks/Python.framework/Versions/3.11/lib/python3.11/site-packages (from pandas) (2024.2)\n",
      "Requirement already satisfied: tzdata>=2022.7 in /Library/Frameworks/Python.framework/Versions/3.11/lib/python3.11/site-packages (from pandas) (2025.1)\n",
      "Requirement already satisfied: six>=1.5 in /Library/Frameworks/Python.framework/Versions/3.11/lib/python3.11/site-packages (from python-dateutil>=2.8.2->pandas) (1.17.0)\n",
      "Note: you may need to restart the kernel to use updated packages.\n"
     ]
    }
   ],
   "source": [
    "pip install pandas\n"
   ]
  },
  {
   "cell_type": "code",
   "execution_count": 4,
   "id": "52115b75-f897-4cb3-bc10-d0addbd9c39d",
   "metadata": {},
   "outputs": [],
   "source": [
    "import pandas as pd\n"
   ]
  },
  {
   "cell_type": "code",
   "execution_count": 5,
   "id": "a972a14c-ef8a-4a76-91f1-fa1b060c6fc8",
   "metadata": {},
   "outputs": [],
   "source": [
    "df = pd.read_csv(\"FAISS_text.csv\")"
   ]
  },
  {
   "cell_type": "code",
   "execution_count": 6,
   "id": "3638a82f-b6aa-4a00-b876-630725607ab1",
   "metadata": {},
   "outputs": [
    {
     "data": {
      "text/html": [
       "<div>\n",
       "<style scoped>\n",
       "    .dataframe tbody tr th:only-of-type {\n",
       "        vertical-align: middle;\n",
       "    }\n",
       "\n",
       "    .dataframe tbody tr th {\n",
       "        vertical-align: top;\n",
       "    }\n",
       "\n",
       "    .dataframe thead th {\n",
       "        text-align: right;\n",
       "    }\n",
       "</style>\n",
       "<table border=\"1\" class=\"dataframe\">\n",
       "  <thead>\n",
       "    <tr style=\"text-align: right;\">\n",
       "      <th></th>\n",
       "      <th>text</th>\n",
       "      <th>category</th>\n",
       "    </tr>\n",
       "  </thead>\n",
       "  <tbody>\n",
       "    <tr>\n",
       "      <th>0</th>\n",
       "      <td>Meditation and yoga can improve mental health</td>\n",
       "      <td>Health</td>\n",
       "    </tr>\n",
       "    <tr>\n",
       "      <th>1</th>\n",
       "      <td>Fruits, whole grains and vegetables helps cont...</td>\n",
       "      <td>Health</td>\n",
       "    </tr>\n",
       "    <tr>\n",
       "      <th>2</th>\n",
       "      <td>These are the latest fashion trends for this week</td>\n",
       "      <td>Fashion</td>\n",
       "    </tr>\n",
       "    <tr>\n",
       "      <th>3</th>\n",
       "      <td>Vibrant color jeans for male are becoming a trend</td>\n",
       "      <td>Fashion</td>\n",
       "    </tr>\n",
       "    <tr>\n",
       "      <th>4</th>\n",
       "      <td>The concert starts at 7 PM tonight</td>\n",
       "      <td>Event</td>\n",
       "    </tr>\n",
       "    <tr>\n",
       "      <th>5</th>\n",
       "      <td>Navaratri dandiya program at Expo center in Mu...</td>\n",
       "      <td>Event</td>\n",
       "    </tr>\n",
       "    <tr>\n",
       "      <th>6</th>\n",
       "      <td>Exciting vacation destinations for your next trip</td>\n",
       "      <td>Travel</td>\n",
       "    </tr>\n",
       "    <tr>\n",
       "      <th>7</th>\n",
       "      <td>Maldives and Srilanka are gaining popularity i...</td>\n",
       "      <td>Travel</td>\n",
       "    </tr>\n",
       "  </tbody>\n",
       "</table>\n",
       "</div>"
      ],
      "text/plain": [
       "                                                text category\n",
       "0      Meditation and yoga can improve mental health   Health\n",
       "1  Fruits, whole grains and vegetables helps cont...   Health\n",
       "2  These are the latest fashion trends for this week  Fashion\n",
       "3  Vibrant color jeans for male are becoming a trend  Fashion\n",
       "4                 The concert starts at 7 PM tonight    Event\n",
       "5  Navaratri dandiya program at Expo center in Mu...    Event\n",
       "6  Exciting vacation destinations for your next trip   Travel\n",
       "7  Maldives and Srilanka are gaining popularity i...   Travel"
      ]
     },
     "execution_count": 6,
     "metadata": {},
     "output_type": "execute_result"
    }
   ],
   "source": [
    "df"
   ]
  },
  {
   "cell_type": "code",
   "execution_count": 7,
   "id": "560cbc60-1d6d-4c73-8a81-5d760a3da359",
   "metadata": {},
   "outputs": [],
   "source": [
    "# Converting the text to vector using embeddings \n",
    "\n",
    "from sentence_transformers import SentenceTransformer"
   ]
  },
  {
   "cell_type": "code",
   "execution_count": 8,
   "id": "76101ea7-cca9-4257-b3f5-878b8a7c7b52",
   "metadata": {},
   "outputs": [
    {
     "data": {
      "application/vnd.jupyter.widget-view+json": {
       "model_id": "66dd3093fa4f4a70a1a6f8d7b7c32655",
       "version_major": 2,
       "version_minor": 0
      },
      "text/plain": [
       "modules.json:   0%|          | 0.00/349 [00:00<?, ?B/s]"
      ]
     },
     "metadata": {},
     "output_type": "display_data"
    },
    {
     "data": {
      "application/vnd.jupyter.widget-view+json": {
       "model_id": "acce37211ce84cceb24f5fc4a4f3aff5",
       "version_major": 2,
       "version_minor": 0
      },
      "text/plain": [
       "config_sentence_transformers.json:   0%|          | 0.00/116 [00:00<?, ?B/s]"
      ]
     },
     "metadata": {},
     "output_type": "display_data"
    },
    {
     "data": {
      "application/vnd.jupyter.widget-view+json": {
       "model_id": "148e9e9a4c2040ada687529f1fa517b0",
       "version_major": 2,
       "version_minor": 0
      },
      "text/plain": [
       "README.md:   0%|          | 0.00/10.6k [00:00<?, ?B/s]"
      ]
     },
     "metadata": {},
     "output_type": "display_data"
    },
    {
     "data": {
      "application/vnd.jupyter.widget-view+json": {
       "model_id": "2189895061b64a4298243750fc1a7bae",
       "version_major": 2,
       "version_minor": 0
      },
      "text/plain": [
       "sentence_bert_config.json:   0%|          | 0.00/53.0 [00:00<?, ?B/s]"
      ]
     },
     "metadata": {},
     "output_type": "display_data"
    },
    {
     "data": {
      "application/vnd.jupyter.widget-view+json": {
       "model_id": "dcd7c0b6be3f4f8ca6e27ebe9e51615a",
       "version_major": 2,
       "version_minor": 0
      },
      "text/plain": [
       "config.json:   0%|          | 0.00/571 [00:00<?, ?B/s]"
      ]
     },
     "metadata": {},
     "output_type": "display_data"
    },
    {
     "data": {
      "application/vnd.jupyter.widget-view+json": {
       "model_id": "37905ce7bfbf408fa42768190004fd11",
       "version_major": 2,
       "version_minor": 0
      },
      "text/plain": [
       "model.safetensors:   0%|          | 0.00/438M [00:00<?, ?B/s]"
      ]
     },
     "metadata": {},
     "output_type": "display_data"
    },
    {
     "data": {
      "application/vnd.jupyter.widget-view+json": {
       "model_id": "852d69b893ce41fc8d8f2a2215c9b9b9",
       "version_major": 2,
       "version_minor": 0
      },
      "text/plain": [
       "tokenizer_config.json:   0%|          | 0.00/363 [00:00<?, ?B/s]"
      ]
     },
     "metadata": {},
     "output_type": "display_data"
    },
    {
     "data": {
      "application/vnd.jupyter.widget-view+json": {
       "model_id": "5910272e0c7546ebbda45a364a19c30f",
       "version_major": 2,
       "version_minor": 0
      },
      "text/plain": [
       "vocab.txt:   0%|          | 0.00/232k [00:00<?, ?B/s]"
      ]
     },
     "metadata": {},
     "output_type": "display_data"
    },
    {
     "data": {
      "application/vnd.jupyter.widget-view+json": {
       "model_id": "3d1565a5c604486bbf536238b8fe6412",
       "version_major": 2,
       "version_minor": 0
      },
      "text/plain": [
       "tokenizer.json:   0%|          | 0.00/466k [00:00<?, ?B/s]"
      ]
     },
     "metadata": {},
     "output_type": "display_data"
    },
    {
     "data": {
      "application/vnd.jupyter.widget-view+json": {
       "model_id": "8a9b23d93a3245e5ad0753835f025bba",
       "version_major": 2,
       "version_minor": 0
      },
      "text/plain": [
       "special_tokens_map.json:   0%|          | 0.00/239 [00:00<?, ?B/s]"
      ]
     },
     "metadata": {},
     "output_type": "display_data"
    },
    {
     "data": {
      "application/vnd.jupyter.widget-view+json": {
       "model_id": "43f9ac0f531848b89b061b462d34f680",
       "version_major": 2,
       "version_minor": 0
      },
      "text/plain": [
       "1_Pooling/config.json:   0%|          | 0.00/190 [00:00<?, ?B/s]"
      ]
     },
     "metadata": {},
     "output_type": "display_data"
    }
   ],
   "source": [
    "# Hugging face encoder \n",
    "encoder = SentenceTransformer(\"all-mpnet-base-v2\")\n",
    "vectors = encoder.encode(df.text)"
   ]
  },
  {
   "cell_type": "code",
   "execution_count": 9,
   "id": "84390cd4-df01-424d-b090-c04e5832c241",
   "metadata": {},
   "outputs": [
    {
     "data": {
      "text/plain": [
       "array([[-0.00247389,  0.03626721, -0.0529046 , ..., -0.09152354,\n",
       "        -0.03970006, -0.04330489],\n",
       "       [-0.03357259,  0.00980516, -0.03250135, ..., -0.05165474,\n",
       "         0.02245889, -0.03156186],\n",
       "       [-0.01865332, -0.04051301, -0.01235387, ...,  0.00610588,\n",
       "        -0.07179649,  0.02773845],\n",
       "       ...,\n",
       "       [-0.0006646 ,  0.04252118, -0.05645503, ...,  0.01315466,\n",
       "        -0.03183552, -0.04357661],\n",
       "       [-0.03317149,  0.03252462, -0.0248484 , ...,  0.0117442 ,\n",
       "         0.05747118,  0.00571022],\n",
       "       [-0.00166397,  0.00413832, -0.04597079, ...,  0.0200853 ,\n",
       "         0.05656246, -0.00161593]], dtype=float32)"
      ]
     },
     "execution_count": 9,
     "metadata": {},
     "output_type": "execute_result"
    }
   ],
   "source": [
    "vectors"
   ]
  },
  {
   "cell_type": "code",
   "execution_count": 10,
   "id": "d3ea5311-d921-4a8d-9848-36771e67a75a",
   "metadata": {},
   "outputs": [
    {
     "data": {
      "text/plain": [
       "(8, 768)"
      ]
     },
     "execution_count": 10,
     "metadata": {},
     "output_type": "execute_result"
    }
   ],
   "source": [
    "vectors.shape"
   ]
  },
  {
   "cell_type": "code",
   "execution_count": 11,
   "id": "b0beab1a-c3b0-4dc3-978e-e23dd5b3de70",
   "metadata": {},
   "outputs": [
    {
     "data": {
      "text/plain": [
       "array([-2.47388566e-03,  3.62672061e-02, -5.29046021e-02, -2.17348374e-02,\n",
       "        1.41723920e-02, -1.01592776e-03,  2.23637503e-02,  3.65196355e-02,\n",
       "        3.80901620e-02,  5.22013707e-03, -3.00865863e-02,  2.05451506e-03,\n",
       "        1.08502386e-02, -8.49088505e-02, -5.57260215e-03, -6.06598035e-02,\n",
       "        2.32013990e-03, -1.51409060e-02,  1.20671550e-02,  1.98904574e-02,\n",
       "       -1.27936536e-02, -2.72811763e-02, -3.31878662e-02,  3.40645877e-03,\n",
       "        8.41168035e-03, -1.94853786e-02,  4.88131978e-02,  2.24119276e-02,\n",
       "        4.53467295e-02, -5.90892173e-02, -9.13183317e-02, -1.22327334e-03,\n",
       "       -4.05046493e-02,  8.67175497e-03,  1.26565283e-06, -1.92451999e-02,\n",
       "       -3.20658721e-02, -4.08172309e-02,  8.79177526e-02, -1.52631681e-02,\n",
       "        1.09909596e-02, -4.47977781e-02, -4.74827271e-03,  3.52632254e-02,\n",
       "        1.31071154e-02,  1.09944185e-02, -3.45766451e-03,  9.12349895e-02,\n",
       "        5.68809435e-02,  4.82893586e-02, -4.51441482e-03,  3.58451083e-02,\n",
       "       -2.44209487e-02, -4.28084992e-02, -1.66666377e-02,  1.65211055e-02,\n",
       "        1.14226919e-02,  6.19200170e-02, -2.31556948e-02, -3.98107469e-02,\n",
       "       -1.20360255e-02, -3.24893035e-02, -4.68717627e-02,  5.74308969e-02,\n",
       "       -2.09294837e-02,  8.66613723e-03,  2.93694343e-02,  1.39484997e-03,\n",
       "        2.89673060e-02,  1.57141015e-02, -4.39899554e-03,  3.33097540e-02,\n",
       "        3.25463377e-02, -5.67621924e-03,  9.64479707e-03, -1.09199444e-02,\n",
       "       -9.13845282e-03, -2.17638295e-02, -1.64260750e-03,  2.95123961e-02,\n",
       "        7.90998340e-02,  1.52951749e-02, -3.61722969e-02, -1.28437662e-02,\n",
       "        7.60599375e-02, -2.54636798e-02, -4.98352107e-03, -9.66969412e-03,\n",
       "        1.23359943e-02, -1.11458683e-02, -1.25426818e-02, -4.38240543e-02,\n",
       "       -1.63968140e-03,  3.94689152e-03,  5.90823882e-04,  1.25497552e-02,\n",
       "       -1.35575784e-02, -1.38590068e-01, -1.79838762e-02,  8.95770267e-02,\n",
       "        6.93043470e-02,  5.44512123e-02, -1.73114203e-02, -6.94497228e-02,\n",
       "        9.26829781e-03,  2.52373070e-02,  1.27630979e-02, -4.95670922e-03,\n",
       "       -1.05311628e-02,  6.89907074e-02, -4.03781049e-03,  1.46953287e-02,\n",
       "       -2.53697094e-02, -3.24943364e-02, -4.91564022e-03,  4.10979288e-03,\n",
       "       -6.16341718e-02, -9.87230241e-03, -4.40229364e-02, -2.49387342e-02,\n",
       "       -2.57239342e-02, -6.45754561e-02, -2.28088275e-02,  8.39881657e-04,\n",
       "        5.17681576e-02,  7.28095844e-02, -2.78260093e-02, -2.70896181e-02,\n",
       "        2.56124642e-02, -2.85153016e-02,  2.48930622e-02,  1.52170509e-02,\n",
       "       -1.82602033e-02,  4.57472913e-03,  4.00795229e-03, -4.10633944e-02,\n",
       "        5.58519289e-02, -4.68986062e-03, -5.42436354e-02,  4.36731568e-03,\n",
       "        1.01202950e-02, -9.13166162e-03,  8.82923678e-02, -2.30879430e-02,\n",
       "       -2.15984173e-02, -4.62850668e-02,  2.45607030e-02, -9.63640213e-03,\n",
       "        2.04569306e-02, -3.36907506e-02, -2.33147163e-02, -3.11595340e-06,\n",
       "       -4.21611816e-02, -2.33145338e-02,  3.98630947e-02,  5.20909093e-02,\n",
       "        8.87798145e-02, -7.32775719e-04,  3.44772674e-02, -2.87739113e-02,\n",
       "        4.24330756e-02, -1.99290421e-02,  2.78220456e-02, -3.48257050e-02,\n",
       "        5.40322885e-02, -4.23690863e-02,  8.31100792e-02, -2.88301334e-02,\n",
       "       -6.22712448e-02,  2.47737039e-02, -6.59210980e-02, -1.81272365e-02,\n",
       "       -1.48121575e-02,  1.07428826e-01, -4.06897906e-03,  6.28882870e-02,\n",
       "       -1.45184519e-02,  2.66863443e-02, -8.66080448e-02, -1.52695179e-02,\n",
       "       -3.13386344e-03, -2.73720035e-03, -1.79908928e-02,  1.99596267e-02,\n",
       "        8.21225867e-02,  6.80245785e-03, -7.02432077e-03,  2.94618793e-02,\n",
       "       -1.36624938e-02, -4.27073799e-02, -4.59484272e-02, -2.15018783e-02,\n",
       "        1.33593539e-02, -4.04234678e-02, -3.29469307e-03,  1.99418627e-02,\n",
       "        4.95412871e-02,  5.59022427e-02,  1.10123819e-02, -1.27652835e-03,\n",
       "       -3.47213820e-02,  5.04798926e-02, -2.76384186e-02, -6.08149134e-02,\n",
       "       -4.09359224e-02, -1.70139428e-02,  2.28634682e-02,  3.50617780e-03,\n",
       "        8.88337716e-02, -2.17469204e-02,  7.32046040e-03,  4.30594832e-02,\n",
       "       -2.76747765e-03, -1.28804697e-02,  1.48888689e-03, -7.65301241e-03,\n",
       "        7.79394293e-04,  3.98992859e-02,  1.81989428e-02,  2.18545622e-03,\n",
       "       -1.44026577e-02,  6.61468506e-02,  1.29944580e-02,  3.00720305e-04,\n",
       "        6.94511533e-02,  9.69153456e-03,  7.73051977e-02,  1.49984173e-02,\n",
       "        7.68602714e-02,  1.50438016e-02, -2.70854495e-02,  1.03822267e-02,\n",
       "       -6.34128461e-03, -1.86572112e-02, -5.77930734e-02,  2.80815791e-02,\n",
       "        2.32389160e-02, -2.65862364e-02, -4.37125191e-02,  2.25694925e-02,\n",
       "        2.60373466e-02,  5.91905154e-02, -9.07665212e-03, -2.58117877e-02,\n",
       "       -2.82173161e-03, -1.48377270e-02, -2.11602617e-02,  2.95709260e-02,\n",
       "       -6.05773628e-02,  9.92966257e-03,  3.09269805e-03, -2.78294701e-02,\n",
       "       -4.66294922e-02, -1.66599080e-02, -3.01651284e-02, -4.93829288e-02,\n",
       "       -4.89021465e-02, -1.16063142e-02,  1.28895529e-02, -1.51607776e-02,\n",
       "       -1.83715522e-02, -6.28011394e-03,  4.56340052e-03, -3.93355452e-02,\n",
       "        1.97598897e-02, -2.09158603e-02,  3.26803848e-02, -9.99123156e-02,\n",
       "       -7.31086405e-03, -2.85854843e-02, -4.75265235e-02, -7.53552560e-03,\n",
       "        7.45942770e-03, -1.76943932e-02, -3.87278534e-02, -1.26046166e-02,\n",
       "        6.57023638e-02,  9.98488665e-02,  3.23766731e-02, -3.14149745e-02,\n",
       "       -3.39231268e-02,  2.18934249e-02,  4.17155214e-02, -2.91293170e-02,\n",
       "        1.69252679e-02, -2.70651225e-02,  1.02947867e-02, -8.51269532e-03,\n",
       "        5.82499355e-02,  6.05033431e-03,  2.51692757e-02,  1.17143421e-02,\n",
       "       -1.43268723e-02, -2.68335510e-02, -3.36446315e-02,  4.13522013e-02,\n",
       "        1.23573719e-02,  3.27557437e-02,  1.36758643e-03, -3.43487747e-02,\n",
       "       -2.23306287e-02,  1.16951773e-02,  2.89604440e-02,  9.82661080e-03,\n",
       "        4.48703989e-02,  1.36505635e-02, -2.55218931e-02,  1.16558000e-02,\n",
       "        1.72281656e-02, -1.19526954e-02,  2.94619929e-02,  5.44004887e-03,\n",
       "        7.05650356e-03, -2.76310649e-02,  2.19649430e-02,  2.89274380e-02,\n",
       "        2.90115569e-02,  1.71294622e-02,  1.71571262e-02,  3.06243543e-02,\n",
       "       -3.33002512e-03, -4.28258404e-02, -2.78930347e-02, -8.78218282e-03,\n",
       "       -1.97477057e-03, -3.04207951e-02,  1.01123981e-01,  1.11175161e-02,\n",
       "        3.70051316e-03,  3.05223782e-02, -6.94842404e-03,  3.36759835e-02,\n",
       "        1.49478447e-02,  5.09506986e-02, -6.17868118e-02, -6.54374138e-02,\n",
       "        1.01318806e-02,  8.71551130e-03, -2.13060956e-02, -7.16117490e-03,\n",
       "        2.81145573e-02,  6.08830201e-03, -6.53892905e-02,  8.65299478e-02,\n",
       "       -4.26639393e-02, -1.95683353e-02,  6.20279787e-03,  5.45220748e-02,\n",
       "       -2.94108671e-04, -7.94979781e-02,  2.34850924e-02, -2.81758588e-02,\n",
       "       -2.67927330e-02,  8.09150562e-03,  1.06042391e-02, -3.51757221e-02,\n",
       "        3.66234519e-02,  1.09313317e-02,  2.97116134e-02,  1.30287241e-02,\n",
       "       -3.92857343e-02,  1.45116551e-02,  1.87349729e-02, -1.32707190e-02,\n",
       "        6.87149763e-02, -3.04465778e-02, -2.08047908e-02,  1.08850375e-02,\n",
       "        2.52188649e-02,  1.71258915e-02, -3.36281694e-02,  5.18849231e-02,\n",
       "       -1.62589699e-02,  1.43419011e-02, -5.09706214e-02,  7.62143731e-02,\n",
       "       -3.95711185e-03, -6.92037269e-02, -5.83421178e-02, -1.35672474e-02,\n",
       "        6.34212047e-03,  1.52592417e-02,  6.45104889e-03,  4.78067994e-03,\n",
       "        2.21218634e-02, -1.46031110e-02,  1.99065283e-02,  4.94005233e-02,\n",
       "        3.77784967e-02, -4.72102612e-02,  1.19161326e-03, -7.77720436e-02,\n",
       "        7.51762316e-02,  1.51349213e-02, -3.00767701e-02, -2.54277606e-02,\n",
       "       -7.68555049e-03, -3.32965627e-02,  2.68353503e-02,  1.16433064e-02,\n",
       "       -2.65072212e-02, -2.21000314e-02,  3.13200317e-02, -1.75455380e-02,\n",
       "        1.62754841e-02,  1.05225919e-02,  4.59100567e-02,  1.12994555e-02,\n",
       "        2.25943746e-03, -4.32899818e-02,  2.55048256e-02,  9.08372849e-02,\n",
       "        3.49961296e-02,  1.99541319e-02,  8.99381861e-02, -1.25246616e-02,\n",
       "        2.99615785e-02,  5.30706206e-03,  3.87517028e-02, -7.73843154e-02,\n",
       "       -2.13108528e-02,  1.71742868e-02, -2.26808209e-02,  3.90663110e-02,\n",
       "       -1.48159610e-02,  6.43334910e-02,  4.15602215e-02,  3.50660924e-03,\n",
       "       -3.73801738e-02, -2.15711202e-02,  3.59704308e-02,  1.26671027e-02,\n",
       "        1.18571920e-02, -1.57606751e-02,  2.89345440e-02, -1.26263651e-03,\n",
       "       -1.25826215e-02, -1.85953323e-02, -4.02569361e-02, -4.52977195e-02,\n",
       "       -3.23485918e-02, -9.25447140e-03,  1.25145372e-02, -1.65086202e-02,\n",
       "        1.14767756e-02,  2.81503517e-02,  8.33326206e-02,  3.36188413e-02,\n",
       "        4.08974738e-04,  3.39801200e-02,  1.61179937e-02,  3.48991640e-02,\n",
       "        1.53090190e-02, -1.57533959e-02,  4.15873304e-02, -2.98247058e-02,\n",
       "       -4.53814752e-02, -1.02242269e-01,  4.03168276e-02,  1.70003828e-02,\n",
       "        1.87226888e-02, -2.08055018e-03, -3.33343749e-03,  3.12029701e-02,\n",
       "        4.42042656e-04, -6.45754486e-02, -6.61168247e-02, -6.12062886e-02,\n",
       "       -1.36191640e-02, -2.49697082e-02,  6.13838360e-02,  2.51729302e-02,\n",
       "       -6.04641484e-03,  2.46976353e-02,  1.33112315e-02,  2.91292053e-02,\n",
       "       -3.77130434e-02,  3.14110331e-02,  7.01060891e-02, -1.87029578e-02,\n",
       "        4.64438573e-02, -3.50710228e-02,  5.78630902e-03,  2.02969946e-02,\n",
       "       -9.14954755e-04,  2.73546334e-02, -4.49903384e-02, -1.92701817e-02,\n",
       "       -1.94978586e-03, -2.72162315e-02, -1.74500968e-03,  5.99822998e-02,\n",
       "        3.38417711e-03, -4.43554372e-02,  2.25251317e-02, -1.98008362e-02,\n",
       "       -1.27885565e-02, -1.68491732e-02, -3.18892300e-02, -9.83171910e-03,\n",
       "       -2.37169359e-02, -3.51733732e-04,  2.70685297e-03,  4.34032381e-02,\n",
       "        2.23510037e-03,  1.04528442e-02, -1.25211366e-02,  3.80455777e-02,\n",
       "       -5.37440646e-04, -1.31307868e-02,  1.76104680e-02, -3.21526575e-04,\n",
       "       -4.33225185e-02, -6.97795376e-02,  2.04765387e-02,  2.54797796e-03,\n",
       "        3.64245698e-02,  1.31792529e-02,  3.74213085e-02, -2.40746066e-02,\n",
       "        1.58512723e-02,  2.33805571e-02, -1.43252630e-02,  9.85235721e-03,\n",
       "       -1.55073376e-02,  8.11947975e-03, -2.57197302e-02,  4.66306694e-03,\n",
       "       -1.50064453e-02, -1.59889068e-02, -6.18274510e-02, -3.19935419e-02,\n",
       "        3.00306641e-02, -2.62035746e-02, -4.40739989e-02,  4.71210852e-02,\n",
       "       -8.53407681e-02,  5.49824387e-02, -6.54166844e-03,  4.11518663e-02,\n",
       "        4.12454084e-02, -2.99727563e-02,  8.77856091e-02, -4.84289601e-03,\n",
       "       -1.86586808e-02, -2.43210252e-02, -3.44161387e-03,  1.71137024e-02,\n",
       "        5.27162477e-02, -3.81459296e-02, -6.85427338e-02,  1.49510019e-02,\n",
       "       -2.22116150e-02, -2.86749434e-02, -2.97930208e-03, -3.73255713e-33,\n",
       "       -8.48166551e-03,  5.95543869e-02, -9.73884482e-03,  2.78522186e-02,\n",
       "        4.26148903e-03, -4.62205000e-02, -1.60510404e-04,  2.03654505e-02,\n",
       "        2.74291374e-02,  3.67005095e-02,  8.95546377e-03,  7.47958049e-02,\n",
       "       -5.74465934e-03,  1.78796798e-02, -8.56287777e-03, -1.87858082e-02,\n",
       "       -2.86743492e-02,  5.29130455e-03, -7.28308270e-03, -1.84069518e-02,\n",
       "       -3.48131694e-02,  5.07889166e-02,  3.45481783e-02, -4.04978506e-02,\n",
       "       -4.27604057e-02,  2.78408676e-02,  4.66892906e-02, -6.46444038e-02,\n",
       "       -5.29185776e-03, -5.78817073e-03, -1.56754348e-02, -5.47069591e-03,\n",
       "        1.39789339e-02, -1.11808605e-03,  5.50444704e-04, -2.26585306e-02,\n",
       "        1.50560923e-02,  3.38191614e-02, -8.25209171e-03,  2.16513220e-02,\n",
       "        8.77555751e-04, -2.40298081e-03, -2.82622352e-02,  1.05068954e-02,\n",
       "        3.68513688e-02, -2.31946148e-02, -2.93091852e-02, -4.81787995e-02,\n",
       "        2.89041921e-02, -4.68108095e-02, -3.55235189e-02, -2.09481250e-02,\n",
       "       -8.83260742e-03,  8.06665272e-02, -8.48143026e-02, -3.95478122e-02,\n",
       "       -5.03683947e-02,  2.69838050e-02, -3.94661725e-03, -2.39755828e-02,\n",
       "        3.29292603e-02,  4.16704603e-02, -2.45395526e-02, -3.85609046e-02,\n",
       "       -3.02901417e-02, -2.84513943e-02, -6.83768094e-02, -9.38010681e-03,\n",
       "       -4.70948108e-02, -2.15401389e-02,  4.15226929e-02,  6.90571591e-03,\n",
       "        2.96323635e-02, -1.55480159e-02, -2.56335288e-02, -4.94204909e-02,\n",
       "       -1.07959872e-02,  1.36496089e-02,  8.46199878e-03,  4.44032364e-02,\n",
       "        3.94011819e-04,  2.20193733e-02,  3.60401943e-02,  5.93104176e-02,\n",
       "        2.14909688e-02, -1.90566108e-02, -2.08019596e-02,  1.91410147e-02,\n",
       "       -3.78732570e-03,  1.66846495e-02,  2.79686023e-02, -6.88845757e-03,\n",
       "       -9.25212074e-03, -2.20814534e-02,  4.68295962e-02,  2.11677924e-02,\n",
       "       -2.44131293e-02, -7.68516539e-03,  3.94079536e-02, -5.65718263e-02,\n",
       "        8.71803891e-03,  2.10748762e-02, -1.76222194e-02,  5.53251356e-02,\n",
       "        3.49679030e-02, -2.62319278e-02,  5.69754504e-02, -7.94604570e-02,\n",
       "       -1.52110625e-02,  2.09261626e-02,  1.75831467e-02,  4.12070490e-02,\n",
       "        2.66290065e-02, -1.34376064e-02, -4.86178063e-02,  1.27243083e-02,\n",
       "        9.39352438e-03, -8.11937917e-03,  2.95723416e-02, -6.94516599e-02,\n",
       "       -7.10697696e-02,  3.01052554e-04,  4.31027636e-02, -5.95075414e-02,\n",
       "        2.65518911e-02, -5.90478703e-02,  4.46864516e-02, -1.46238580e-02,\n",
       "       -9.81813204e-03, -4.89699058e-02,  1.01139639e-02,  2.82771736e-02,\n",
       "        1.99888490e-07, -6.35880902e-02,  1.15380622e-02, -1.61976721e-02,\n",
       "       -3.75170074e-02,  2.24944837e-02,  5.75003540e-03, -6.25734031e-02,\n",
       "       -1.51105719e-02,  2.80585662e-02,  3.69874723e-02, -4.67125438e-02,\n",
       "       -2.84615755e-02,  1.72772035e-02, -9.28000640e-03,  7.98695460e-02,\n",
       "       -8.46900120e-02,  3.83958481e-02,  1.41007605e-03, -9.62683931e-03,\n",
       "        1.36490595e-02, -1.77746285e-02,  4.18013521e-02,  8.53306893e-03,\n",
       "       -1.77574356e-03, -8.90155323e-03,  3.19798104e-02,  3.75544280e-02,\n",
       "        1.10768164e-02,  5.14426231e-02,  4.77531254e-02,  9.78296548e-02,\n",
       "       -9.33899544e-03, -6.87361211e-02, -3.38471122e-02, -4.79166862e-03,\n",
       "       -3.35370153e-02, -2.90471055e-02,  2.22574919e-02, -6.03179564e-04,\n",
       "        4.80034091e-02, -3.26162651e-02,  7.76099786e-02, -2.88890004e-02,\n",
       "       -1.22943949e-02,  1.82095952e-02, -1.09790318e-01, -2.57626977e-02,\n",
       "        3.70125696e-02, -6.64492929e-03, -2.65492033e-02,  2.67257039e-02,\n",
       "        2.67417859e-02,  6.14936370e-03,  3.98130007e-02, -1.56966888e-03,\n",
       "        6.82380924e-04,  4.84149083e-02,  2.97232973e-03, -1.46997320e-02,\n",
       "       -3.73886973e-02, -1.90463345e-02,  4.02793139e-02,  1.27068849e-03,\n",
       "        1.20832468e-03, -5.90573102e-02, -1.78195946e-02, -5.61401434e-02,\n",
       "        9.20050934e-35,  1.11877443e-02,  1.60857625e-02,  9.83772520e-03,\n",
       "       -2.01888438e-02, -7.61506148e-03, -4.81336676e-02, -6.21873550e-02,\n",
       "        6.26688218e-03, -9.15235355e-02, -3.97000611e-02, -4.33048904e-02],\n",
       "      dtype=float32)"
      ]
     },
     "execution_count": 11,
     "metadata": {},
     "output_type": "execute_result"
    }
   ],
   "source": [
    "vectors[0]"
   ]
  },
  {
   "cell_type": "code",
   "execution_count": 12,
   "id": "2be56af9-fb9d-4cb3-8dd2-74b3d82ca77d",
   "metadata": {},
   "outputs": [],
   "source": [
    "dim = vectors.shape[1]"
   ]
  },
  {
   "cell_type": "code",
   "execution_count": 13,
   "id": "d6f6dd65-08aa-4fd6-85bc-a84dcfc80f09",
   "metadata": {},
   "outputs": [
    {
     "data": {
      "text/plain": [
       "768"
      ]
     },
     "execution_count": 13,
     "metadata": {},
     "output_type": "execute_result"
    }
   ],
   "source": [
    "dim"
   ]
  },
  {
   "cell_type": "code",
   "execution_count": 14,
   "id": "375f973d-b9b6-4073-9212-524f609c2c74",
   "metadata": {},
   "outputs": [],
   "source": [
    "import faiss\n",
    "index = faiss.IndexFlatL2(dim)"
   ]
  },
  {
   "cell_type": "code",
   "execution_count": 15,
   "id": "f22d8ba5-a671-4477-b8bb-fd912c9cb298",
   "metadata": {},
   "outputs": [
    {
     "data": {
      "text/plain": [
       "<faiss.swigfaiss.IndexFlatL2; proxy of <Swig Object of type 'faiss::IndexFlatL2 *' at 0x17a78c780> >"
      ]
     },
     "execution_count": 15,
     "metadata": {},
     "output_type": "execute_result"
    }
   ],
   "source": [
    "index\n"
   ]
  },
  {
   "cell_type": "code",
   "execution_count": 16,
   "id": "57eb67d6-cf3a-40e4-9e3d-b2d271c470ac",
   "metadata": {},
   "outputs": [],
   "source": [
    "index.add(vectors)"
   ]
  },
  {
   "cell_type": "code",
   "execution_count": 17,
   "id": "7ce5bb84-7848-450f-94c0-608964c8cbef",
   "metadata": {},
   "outputs": [],
   "source": [
    "search_query = \"An apple a day keeps doctor away\""
   ]
  },
  {
   "cell_type": "code",
   "execution_count": 18,
   "id": "42b78d83-2525-44ea-bc13-f73ca558a498",
   "metadata": {},
   "outputs": [],
   "source": [
    "vec = encoder.encode(search_query)"
   ]
  },
  {
   "cell_type": "code",
   "execution_count": 19,
   "id": "cac18d27-d2a2-4231-a1e3-506ec0a60337",
   "metadata": {},
   "outputs": [
    {
     "data": {
      "text/plain": [
       "(768,)"
      ]
     },
     "execution_count": 19,
     "metadata": {},
     "output_type": "execute_result"
    }
   ],
   "source": [
    "vec.shape"
   ]
  },
  {
   "cell_type": "code",
   "execution_count": 20,
   "id": "ad515d64-4c7a-460b-820f-a7b776c04101",
   "metadata": {},
   "outputs": [],
   "source": [
    "import numpy as np \n",
    "svec = np.array(vec).reshape(1,-1)"
   ]
  },
  {
   "cell_type": "code",
   "execution_count": 21,
   "id": "69b123ec-c35c-4bc6-9b39-4dcc4a550ef5",
   "metadata": {},
   "outputs": [
    {
     "data": {
      "text/plain": [
       "(1, 768)"
      ]
     },
     "execution_count": 21,
     "metadata": {},
     "output_type": "execute_result"
    }
   ],
   "source": [
    "svec.shape"
   ]
  },
  {
   "cell_type": "code",
   "execution_count": 22,
   "id": "6886a2f8-d660-4525-a598-9d11b51f776a",
   "metadata": {},
   "outputs": [
    {
     "data": {
      "text/plain": [
       "(array([[1.3908098, 1.7193401]], dtype=float32), array([[1, 0]]))"
      ]
     },
     "execution_count": 22,
     "metadata": {},
     "output_type": "execute_result"
    }
   ],
   "source": [
    "index.search(svec, k=2)"
   ]
  },
  {
   "cell_type": "code",
   "execution_count": 23,
   "id": "b2ede8cc-da23-4f3b-893c-2dda6edec544",
   "metadata": {},
   "outputs": [],
   "source": [
    "dis, I = index.search(svec, k=2)"
   ]
  },
  {
   "cell_type": "code",
   "execution_count": 24,
   "id": "1b3625d6-7a35-4c19-a6c2-486f58751b65",
   "metadata": {},
   "outputs": [
    {
     "data": {
      "text/plain": [
       "array([[1.3908098, 1.7193401]], dtype=float32)"
      ]
     },
     "execution_count": 24,
     "metadata": {},
     "output_type": "execute_result"
    }
   ],
   "source": [
    "dis"
   ]
  },
  {
   "cell_type": "code",
   "execution_count": 25,
   "id": "0bbcf85a-8a1f-4826-890c-56b6cb3d9074",
   "metadata": {},
   "outputs": [
    {
     "data": {
      "text/plain": [
       "array([[1, 0]])"
      ]
     },
     "execution_count": 25,
     "metadata": {},
     "output_type": "execute_result"
    }
   ],
   "source": [
    "I"
   ]
  },
  {
   "cell_type": "code",
   "execution_count": 26,
   "id": "f9223e47-af12-429d-a620-225e85eb324e",
   "metadata": {},
   "outputs": [
    {
     "data": {
      "text/html": [
       "<div>\n",
       "<style scoped>\n",
       "    .dataframe tbody tr th:only-of-type {\n",
       "        vertical-align: middle;\n",
       "    }\n",
       "\n",
       "    .dataframe tbody tr th {\n",
       "        vertical-align: top;\n",
       "    }\n",
       "\n",
       "    .dataframe thead th {\n",
       "        text-align: right;\n",
       "    }\n",
       "</style>\n",
       "<table border=\"1\" class=\"dataframe\">\n",
       "  <thead>\n",
       "    <tr style=\"text-align: right;\">\n",
       "      <th></th>\n",
       "      <th>text</th>\n",
       "      <th>category</th>\n",
       "    </tr>\n",
       "  </thead>\n",
       "  <tbody>\n",
       "    <tr>\n",
       "      <th>1</th>\n",
       "      <td>Fruits, whole grains and vegetables helps cont...</td>\n",
       "      <td>Health</td>\n",
       "    </tr>\n",
       "    <tr>\n",
       "      <th>0</th>\n",
       "      <td>Meditation and yoga can improve mental health</td>\n",
       "      <td>Health</td>\n",
       "    </tr>\n",
       "  </tbody>\n",
       "</table>\n",
       "</div>"
      ],
      "text/plain": [
       "                                                text category\n",
       "1  Fruits, whole grains and vegetables helps cont...   Health\n",
       "0      Meditation and yoga can improve mental health   Health"
      ]
     },
     "execution_count": 26,
     "metadata": {},
     "output_type": "execute_result"
    }
   ],
   "source": [
    "df.loc[I[0]]"
   ]
  },
  {
   "cell_type": "code",
   "execution_count": null,
   "id": "c87942c9-b411-4ee4-831b-84ff06eebe13",
   "metadata": {},
   "outputs": [],
   "source": []
  },
  {
   "cell_type": "code",
   "execution_count": null,
   "id": "87ff9eed-6faf-4ca3-8395-6100b28c63c3",
   "metadata": {},
   "outputs": [],
   "source": []
  },
  {
   "cell_type": "code",
   "execution_count": null,
   "id": "761ed3fe-c19a-4cbc-b642-a396df444cf8",
   "metadata": {},
   "outputs": [],
   "source": []
  },
  {
   "cell_type": "code",
   "execution_count": null,
   "id": "322d7d73-c72c-4aea-9a57-21d8a26c7648",
   "metadata": {},
   "outputs": [],
   "source": []
  },
  {
   "cell_type": "code",
   "execution_count": null,
   "id": "05cfd07f-a50f-431a-a6df-be8aecc7b5ce",
   "metadata": {},
   "outputs": [],
   "source": []
  },
  {
   "cell_type": "code",
   "execution_count": null,
   "id": "4acd8eaa-b113-4b33-9418-722f766f5738",
   "metadata": {},
   "outputs": [],
   "source": []
  },
  {
   "cell_type": "code",
   "execution_count": null,
   "id": "e01f5737-9e42-42b0-90a1-382462b2621d",
   "metadata": {},
   "outputs": [],
   "source": []
  },
  {
   "cell_type": "code",
   "execution_count": null,
   "id": "9d3587a2-709e-4f1a-b919-411d16b288a4",
   "metadata": {},
   "outputs": [],
   "source": []
  },
  {
   "cell_type": "code",
   "execution_count": null,
   "id": "e7e014dc-c3b3-4a01-8570-6cc7154b71a4",
   "metadata": {},
   "outputs": [],
   "source": []
  },
  {
   "cell_type": "code",
   "execution_count": null,
   "id": "9d6eed22-6e6a-4a18-8a83-bec5c1f9c9c0",
   "metadata": {},
   "outputs": [],
   "source": []
  },
  {
   "cell_type": "code",
   "execution_count": null,
   "id": "fa60fe77-9a6e-4402-9fd9-cf290a36a602",
   "metadata": {},
   "outputs": [],
   "source": []
  }
 ],
 "metadata": {
  "kernelspec": {
   "display_name": "Python 3 (ipykernel)",
   "language": "python",
   "name": "python3"
  },
  "language_info": {
   "codemirror_mode": {
    "name": "ipython",
    "version": 3
   },
   "file_extension": ".py",
   "mimetype": "text/x-python",
   "name": "python",
   "nbconvert_exporter": "python",
   "pygments_lexer": "ipython3",
   "version": "3.11.1"
  }
 },
 "nbformat": 4,
 "nbformat_minor": 5
}
